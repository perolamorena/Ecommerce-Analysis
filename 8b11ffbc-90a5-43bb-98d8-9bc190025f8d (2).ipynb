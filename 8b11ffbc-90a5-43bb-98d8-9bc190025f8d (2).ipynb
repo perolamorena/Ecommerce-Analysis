{
 "cells": [
  {
   "cell_type": "markdown",
   "metadata": {},
   "source": [
    "##  Ecommerce Analysis"
   ]
  },
  {
   "cell_type": "markdown",
   "metadata": {},
   "source": [
    "### Bibliotecas"
   ]
  },
  {
   "cell_type": "code",
   "execution_count": null,
   "metadata": {},
   "outputs": [],
   "source": [
    "import pandas as pd \n",
    "import numpy as np\n",
    "import plotly.express as px\n",
    "from matplotlib import pyplot as plt\n",
    "from scipy import stats"
   ]
  },
  {
   "cell_type": "markdown",
   "metadata": {},
   "source": [
    "### Leitura dos dados"
   ]
  },
  {
   "cell_type": "code",
   "execution_count": null,
   "metadata": {
    "scrolled": true
   },
   "outputs": [
    {
     "data": {
      "text/html": [
       "<div>\n",
       "<style scoped>\n",
       "    .dataframe tbody tr th:only-of-type {\n",
       "        vertical-align: middle;\n",
       "    }\n",
       "\n",
       "    .dataframe tbody tr th {\n",
       "        vertical-align: top;\n",
       "    }\n",
       "\n",
       "    .dataframe thead th {\n",
       "        text-align: right;\n",
       "    }\n",
       "</style>\n",
       "<table border=\"1\" class=\"dataframe\">\n",
       "  <thead>\n",
       "    <tr style=\"text-align: right;\">\n",
       "      <th></th>\n",
       "      <th>Name</th>\n",
       "      <th>Platform</th>\n",
       "      <th>Year_of_Release</th>\n",
       "      <th>Genre</th>\n",
       "      <th>NA_sales</th>\n",
       "      <th>EU_sales</th>\n",
       "      <th>JP_sales</th>\n",
       "      <th>Other_sales</th>\n",
       "      <th>Critic_Score</th>\n",
       "      <th>User_Score</th>\n",
       "      <th>Rating</th>\n",
       "    </tr>\n",
       "  </thead>\n",
       "  <tbody>\n",
       "    <tr>\n",
       "      <th>0</th>\n",
       "      <td>Wii Sports</td>\n",
       "      <td>Wii</td>\n",
       "      <td>2006.0</td>\n",
       "      <td>Sports</td>\n",
       "      <td>41.36</td>\n",
       "      <td>28.96</td>\n",
       "      <td>3.77</td>\n",
       "      <td>8.45</td>\n",
       "      <td>76.0</td>\n",
       "      <td>8</td>\n",
       "      <td>E</td>\n",
       "    </tr>\n",
       "    <tr>\n",
       "      <th>1</th>\n",
       "      <td>Super Mario Bros.</td>\n",
       "      <td>NES</td>\n",
       "      <td>1985.0</td>\n",
       "      <td>Platform</td>\n",
       "      <td>29.08</td>\n",
       "      <td>3.58</td>\n",
       "      <td>6.81</td>\n",
       "      <td>0.77</td>\n",
       "      <td>NaN</td>\n",
       "      <td>NaN</td>\n",
       "      <td>NaN</td>\n",
       "    </tr>\n",
       "    <tr>\n",
       "      <th>2</th>\n",
       "      <td>Mario Kart Wii</td>\n",
       "      <td>Wii</td>\n",
       "      <td>2008.0</td>\n",
       "      <td>Racing</td>\n",
       "      <td>15.68</td>\n",
       "      <td>12.76</td>\n",
       "      <td>3.79</td>\n",
       "      <td>3.29</td>\n",
       "      <td>82.0</td>\n",
       "      <td>8.3</td>\n",
       "      <td>E</td>\n",
       "    </tr>\n",
       "    <tr>\n",
       "      <th>3</th>\n",
       "      <td>Wii Sports Resort</td>\n",
       "      <td>Wii</td>\n",
       "      <td>2009.0</td>\n",
       "      <td>Sports</td>\n",
       "      <td>15.61</td>\n",
       "      <td>10.93</td>\n",
       "      <td>3.28</td>\n",
       "      <td>2.95</td>\n",
       "      <td>80.0</td>\n",
       "      <td>8</td>\n",
       "      <td>E</td>\n",
       "    </tr>\n",
       "    <tr>\n",
       "      <th>4</th>\n",
       "      <td>Pokemon Red/Pokemon Blue</td>\n",
       "      <td>GB</td>\n",
       "      <td>1996.0</td>\n",
       "      <td>Role-Playing</td>\n",
       "      <td>11.27</td>\n",
       "      <td>8.89</td>\n",
       "      <td>10.22</td>\n",
       "      <td>1.00</td>\n",
       "      <td>NaN</td>\n",
       "      <td>NaN</td>\n",
       "      <td>NaN</td>\n",
       "    </tr>\n",
       "  </tbody>\n",
       "</table>\n",
       "</div>"
      ],
      "text/plain": [
       "                       Name Platform  Year_of_Release         Genre  NA_sales  \\\n",
       "0                Wii Sports      Wii           2006.0        Sports     41.36   \n",
       "1         Super Mario Bros.      NES           1985.0      Platform     29.08   \n",
       "2            Mario Kart Wii      Wii           2008.0        Racing     15.68   \n",
       "3         Wii Sports Resort      Wii           2009.0        Sports     15.61   \n",
       "4  Pokemon Red/Pokemon Blue       GB           1996.0  Role-Playing     11.27   \n",
       "\n",
       "   EU_sales  JP_sales  Other_sales  Critic_Score User_Score Rating  \n",
       "0     28.96      3.77         8.45          76.0          8      E  \n",
       "1      3.58      6.81         0.77           NaN        NaN    NaN  \n",
       "2     12.76      3.79         3.29          82.0        8.3      E  \n",
       "3     10.93      3.28         2.95          80.0          8      E  \n",
       "4      8.89     10.22         1.00           NaN        NaN    NaN  "
      ]
     },
     "execution_count": 2,
     "metadata": {},
     "output_type": "execute_result"
    }
   ],
   "source": [
    "ecommerce = pd.read_csv('/datasets/games.csv')\n",
    "ecommerce.head()"
   ]
  },
  {
   "cell_type": "markdown",
   "metadata": {},
   "source": [
    "### Informações gerais dos dados"
   ]
  },
  {
   "cell_type": "code",
   "execution_count": null,
   "metadata": {},
   "outputs": [
    {
     "name": "stdout",
     "output_type": "stream",
     "text": [
      "<class 'pandas.core.frame.DataFrame'>\n",
      "RangeIndex: 16715 entries, 0 to 16714\n",
      "Data columns (total 11 columns):\n",
      " #   Column           Non-Null Count  Dtype  \n",
      "---  ------           --------------  -----  \n",
      " 0   Name             16713 non-null  object \n",
      " 1   Platform         16715 non-null  object \n",
      " 2   Year_of_Release  16446 non-null  float64\n",
      " 3   Genre            16713 non-null  object \n",
      " 4   NA_sales         16715 non-null  float64\n",
      " 5   EU_sales         16715 non-null  float64\n",
      " 6   JP_sales         16715 non-null  float64\n",
      " 7   Other_sales      16715 non-null  float64\n",
      " 8   Critic_Score     8137 non-null   float64\n",
      " 9   User_Score       10014 non-null  object \n",
      " 10  Rating           9949 non-null   object \n",
      "dtypes: float64(6), object(5)\n",
      "memory usage: 1.4+ MB\n"
     ]
    }
   ],
   "source": [
    "ecommerce.info()"
   ]
  },
  {
   "cell_type": "code",
   "execution_count": null,
   "metadata": {},
   "outputs": [],
   "source": [
    "# year_of_release deveria ser int\n",
    "\n"
   ]
  },
  {
   "cell_type": "markdown",
   "metadata": {},
   "source": [
    "### Colocando as colunas em minúsculo"
   ]
  },
  {
   "cell_type": "code",
   "execution_count": null,
   "metadata": {},
   "outputs": [
    {
     "name": "stdout",
     "output_type": "stream",
     "text": [
      "Index(['name', 'platform', 'year_of_release', 'genre', 'na_sales', 'eu_sales',\n",
      "       'jp_sales', 'other_sales', 'critic_score', 'user_score', 'rating'],\n",
      "      dtype='object')\n"
     ]
    }
   ],
   "source": [
    "ecommerce.columns = ecommerce.columns.str.lower()\n",
    "\n",
    "print(ecommerce.columns)"
   ]
  },
  {
   "cell_type": "markdown",
   "metadata": {},
   "source": [
    "### Verificando valores ausentes"
   ]
  },
  {
   "cell_type": "code",
   "execution_count": null,
   "metadata": {},
   "outputs": [
    {
     "name": "stdout",
     "output_type": "stream",
     "text": [
      "name                  2\n",
      "platform              0\n",
      "year_of_release     269\n",
      "genre                 2\n",
      "na_sales              0\n",
      "eu_sales              0\n",
      "jp_sales              0\n",
      "other_sales           0\n",
      "critic_score       8578\n",
      "user_score         6701\n",
      "rating             6766\n",
      "dtype: int64\n"
     ]
    }
   ],
   "source": [
    "missing_values = ecommerce.isna().sum()\n",
    "\n",
    "print(missing_values)"
   ]
  },
  {
   "cell_type": "markdown",
   "metadata": {},
   "source": [
    "### Tratando valores ausentes e convertendo dados "
   ]
  },
  {
   "cell_type": "code",
   "execution_count": null,
   "metadata": {},
   "outputs": [
    {
     "name": "stdout",
     "output_type": "stream",
     "text": [
      "                       name platform  year_of_release         genre  na_sales  \\\n",
      "0                Wii Sports      Wii             2006        Sports     41.36   \n",
      "1         Super Mario Bros.      NES             1985      Platform     29.08   \n",
      "2            Mario Kart Wii      Wii             2008        Racing     15.68   \n",
      "3         Wii Sports Resort      Wii             2009        Sports     15.61   \n",
      "4  Pokemon Red/Pokemon Blue       GB             1996  Role-Playing     11.27   \n",
      "\n",
      "   eu_sales  jp_sales  other_sales  critic_score  user_score rating  \n",
      "0     28.96      3.77         8.45            76         8.0      E  \n",
      "1      3.58      6.81         0.77          <NA>         NaN    NaN  \n",
      "2     12.76      3.79         3.29            82         8.3      E  \n",
      "3     10.93      3.28         2.95            80         8.0      E  \n",
      "4      8.89     10.22         1.00          <NA>         NaN    NaN  \n"
     ]
    }
   ],
   "source": [
    "ecommerce['year_of_release'] = ecommerce['year_of_release'].astype('Int64')  # Convertendo para Int64\n",
    "ecommerce['critic_score'] = ecommerce['critic_score'].astype('Int64')        # Convertendo para Int64\n",
    "ecommerce['user_score'] = pd.to_numeric(ecommerce['user_score'], errors='coerce')  # Convertendo para float\n",
    "ecommerce['rating'] = ecommerce['rating'].astype('category') \n",
    "\n",
    "print(ecommerce.head())"
   ]
  },
  {
   "cell_type": "code",
   "execution_count": null,
   "metadata": {},
   "outputs": [
    {
     "name": "stdout",
     "output_type": "stream",
     "text": [
      "<class 'pandas.core.frame.DataFrame'>\n",
      "RangeIndex: 16715 entries, 0 to 16714\n",
      "Data columns (total 11 columns):\n",
      " #   Column           Non-Null Count  Dtype   \n",
      "---  ------           --------------  -----   \n",
      " 0   name             16713 non-null  object  \n",
      " 1   platform         16715 non-null  object  \n",
      " 2   year_of_release  16446 non-null  Int64   \n",
      " 3   genre            16713 non-null  object  \n",
      " 4   na_sales         16715 non-null  float64 \n",
      " 5   eu_sales         16715 non-null  float64 \n",
      " 6   jp_sales         16715 non-null  float64 \n",
      " 7   other_sales      16715 non-null  float64 \n",
      " 8   critic_score     8137 non-null   Int64   \n",
      " 9   user_score       7590 non-null   float64 \n",
      " 10  rating           9949 non-null   category\n",
      "dtypes: Int64(2), category(1), float64(5), object(3)\n",
      "memory usage: 1.3+ MB\n"
     ]
    }
   ],
   "source": [
    "ecommerce.info() # verificando a conversão"
   ]
  },
  {
   "cell_type": "markdown",
   "metadata": {},
   "source": [
    "### Descrevendo as colunas onde os tipos de dados foram alterados\n"
   ]
  },
  {
   "cell_type": "raw",
   "metadata": {},
   "source": [
    "year_of release: representa um ano, então faz mais sentido estar em número inteiro do que decimal\n",
    "critic_score: pontuações podem ter números decimais, mas é mais fácil tratar como números inteiros\n",
    "user_score: provavelmente númerico mas pode conter alguns valores inválidos que foram tratados antes da conversão\n",
    "rating: contém classificações que são categóricas então decidi converter para otimizar o uso de memória"
   ]
  },
  {
   "cell_type": "markdown",
   "metadata": {},
   "source": [
    "### Consertando as colunas "
   ]
  },
  {
   "cell_type": "code",
   "execution_count": null,
   "metadata": {},
   "outputs": [
    {
     "name": "stdout",
     "output_type": "stream",
     "text": [
      "Colunas antes da correção:\n",
      "Index(['name', 'platform', 'year_of_release', 'genre', 'na_sales', 'eu_sales',\n",
      "       'jp_sales', 'other_sales', 'critic_score', 'user_score', 'rating'],\n",
      "      dtype='object')\n",
      "\n",
      "Colunas depois da correção:\n",
      "Index(['name', 'platform', 'year_of_release', 'genre', 'na_sales', 'eu_sales',\n",
      "       'jp_sales', 'other_sales', 'critic_score', 'user_score', 'rating'],\n",
      "      dtype='object')\n",
      "\n",
      "DataFrame corrigido:\n",
      "                       name platform  year_of_release         genre  na_sales  \\\n",
      "0                Wii Sports      Wii             2006        Sports     41.36   \n",
      "1         Super Mario Bros.      NES             1985      Platform     29.08   \n",
      "2            Mario Kart Wii      Wii             2008        Racing     15.68   \n",
      "3         Wii Sports Resort      Wii             2009        Sports     15.61   \n",
      "4  Pokemon Red/Pokemon Blue       GB             1996  Role-Playing     11.27   \n",
      "\n",
      "   eu_sales  jp_sales  other_sales  critic_score  user_score rating  \n",
      "0     28.96      3.77         8.45            76         8.0      E  \n",
      "1      3.58      6.81         0.77          <NA>         NaN    NaN  \n",
      "2     12.76      3.79         3.29            82         8.3      E  \n",
      "3     10.93      3.28         2.95            80         8.0      E  \n",
      "4      8.89     10.22         1.00          <NA>         NaN    NaN  \n"
     ]
    }
   ],
   "source": [
    "ecommerce.reset_index(drop=True, inplace=True)\n",
    "\n",
    "# Verificando os nomes das colunas\n",
    "print(\"Colunas antes da correção:\")\n",
    "print(ecommerce.columns)\n",
    "\n",
    "# Corrigindo\n",
    "ecommerce.columns = [col.strip().lower().replace(\" \", \"_\") for col in ecommerce.columns]\n",
    "\n",
    "# Verificando as colunas novamente após a correção\n",
    "print(\"\\nColunas depois da correção:\")\n",
    "print(ecommerce.columns)\n",
    "\n",
    "\n",
    "print(\"\\nDataFrame corrigido:\")\n",
    "print(ecommerce.head())\n",
    "\n",
    "\n",
    "\n",
    "\n",
    "\n",
    "\n",
    "\n",
    "\n",
    "\n"
   ]
  },
  {
   "cell_type": "markdown",
   "metadata": {},
   "source": [
    "### Calculando o total de vendas"
   ]
  },
  {
   "cell_type": "code",
   "execution_count": null,
   "metadata": {},
   "outputs": [
    {
     "name": "stdout",
     "output_type": "stream",
     "text": [
      "                       name platform  year_of_release         genre  na_sales  \\\n",
      "0                Wii Sports      Wii             2006        Sports     41.36   \n",
      "1         Super Mario Bros.      NES             1985      Platform     29.08   \n",
      "2            Mario Kart Wii      Wii             2008        Racing     15.68   \n",
      "3         Wii Sports Resort      Wii             2009        Sports     15.61   \n",
      "4  Pokemon Red/Pokemon Blue       GB             1996  Role-Playing     11.27   \n",
      "\n",
      "   eu_sales  jp_sales  other_sales  critic_score  user_score rating  \\\n",
      "0     28.96      3.77         8.45            76         8.0      E   \n",
      "1      3.58      6.81         0.77          <NA>         NaN    NaN   \n",
      "2     12.76      3.79         3.29            82         8.3      E   \n",
      "3     10.93      3.28         2.95            80         8.0      E   \n",
      "4      8.89     10.22         1.00          <NA>         NaN    NaN   \n",
      "\n",
      "   total_sales  \n",
      "0        82.54  \n",
      "1        40.24  \n",
      "2        35.52  \n",
      "3        32.77  \n",
      "4        31.38  \n"
     ]
    }
   ],
   "source": [
    "ecommerce['total_sales'] = ecommerce['na_sales'] + ecommerce['eu_sales'] + ecommerce['jp_sales'] + ecommerce['other_sales']\n",
    "\n",
    "print(ecommerce.head())"
   ]
  },
  {
   "cell_type": "code",
   "execution_count": null,
   "metadata": {},
   "outputs": [
    {
     "name": "stdout",
     "output_type": "stream",
     "text": [
      "O total de vendas em todas as regiões é: 8915.710000000001\n"
     ]
    }
   ],
   "source": [
    "# só checando\n",
    "total_vendas = ecommerce['na_sales'].sum() + ecommerce['eu_sales'].sum() + ecommerce['jp_sales'].sum() + ecommerce['other_sales'].sum()\n",
    "\n",
    "\n",
    "print(f\"O total de vendas em todas as regiões é: {total_vendas}\")"
   ]
  },
  {
   "cell_type": "markdown",
   "metadata": {},
   "source": [
    "### Conferindo jogos lançados por ano "
   ]
  },
  {
   "cell_type": "code",
   "execution_count": null,
   "metadata": {},
   "outputs": [
    {
     "name": "stdout",
     "output_type": "stream",
     "text": [
      "Número de jogos lançados por ano:\n",
      "1980       9\n",
      "1981      46\n",
      "1982      36\n",
      "1983      17\n",
      "1984      14\n",
      "1985      14\n",
      "1986      21\n",
      "1987      16\n",
      "1988      15\n",
      "1989      17\n",
      "1990      16\n",
      "1991      41\n",
      "1992      43\n",
      "1993      62\n",
      "1994     121\n",
      "1995     219\n",
      "1996     263\n",
      "1997     289\n",
      "1998     379\n",
      "1999     338\n",
      "2000     350\n",
      "2001     482\n",
      "2002     829\n",
      "2003     775\n",
      "2004     762\n",
      "2005     939\n",
      "2006    1006\n",
      "2007    1197\n",
      "2008    1427\n",
      "2009    1426\n",
      "2010    1255\n",
      "2011    1136\n",
      "2012     653\n",
      "2013     544\n",
      "2014     581\n",
      "2015     606\n",
      "2016     502\n",
      "Name: year_of_release, dtype: Int64\n"
     ]
    }
   ],
   "source": [
    "jogos_por_ano = ecommerce['year_of_release'].value_counts().sort_index()\n",
    "\n",
    "print(\"Número de jogos lançados por ano:\")\n",
    "print(jogos_por_ano)"
   ]
  },
  {
   "cell_type": "code",
   "execution_count": null,
   "metadata": {},
   "outputs": [],
   "source": [
    "# Os dados por ano são significativos, em 2008 por exemplo, há uma grande diferença para os outros anos"
   ]
  },
  {
   "cell_type": "markdown",
   "metadata": {},
   "source": [
    "### Variação de plataforma"
   ]
  },
  {
   "cell_type": "code",
   "execution_count": null,
   "metadata": {},
   "outputs": [
    {
     "name": "stdout",
     "output_type": "stream",
     "text": [
      "Plataformas com maiores vendas totais:\n",
      "          na_sales  eu_sales  jp_sales  other_sales  total_sales\n",
      "platform                                                        \n",
      "PS2         583.84    339.29    139.20       193.44      1255.77\n",
      "X360        602.47    270.76     12.43        85.76       971.42\n",
      "PS3         393.49    330.29     80.19       135.68       939.65\n",
      "Wii         496.90    262.21     69.33        79.07       907.51\n",
      "DS          382.40    188.89    175.57        59.26       806.12\n",
      "PS          336.52    213.61    139.82        40.91       730.86\n",
      "GBA         187.54     75.25     47.33         7.73       317.85\n",
      "PS4         108.74    141.09     15.96        48.35       314.14\n",
      "PSP         109.17     66.68     76.78        41.42       294.05\n",
      "PC           94.53    142.44      0.17        22.38       259.52\n",
      "3DS          83.49     61.48    100.67        13.36       259.00\n",
      "XB          186.69     60.95      1.38         8.72       257.74\n",
      "GB          114.32     47.82     85.12         8.20       255.46\n",
      "NES         125.94     21.15     98.65         5.31       251.05\n",
      "N64         139.02     41.06     34.22         4.38       218.68\n",
      "SNES         61.23     19.04    116.55         3.22       200.04\n",
      "GC          133.46     38.71     21.58         5.18       198.93\n",
      "XOne         93.12     51.59      0.34        14.27       159.32\n",
      "2600         90.60      5.47      0.00         0.91        96.98\n",
      "WiiU         38.10     25.13     13.01         5.95        82.19\n",
      "PSV          12.58     13.12     21.91         6.46        54.07\n",
      "SAT           0.72      0.54     32.26         0.07        33.59\n",
      "GEN          21.05      6.05      2.70         0.97        30.77\n",
      "DC            5.43      1.69      8.56         0.27        15.95\n",
      "SCD           1.00      0.36      0.45         0.05         1.86\n",
      "NG            0.00      0.00      1.44         0.00         1.44\n",
      "WS            0.00      0.00      1.42         0.00         1.42\n",
      "TG16          0.00      0.00      0.16         0.00         0.16\n",
      "3DO           0.00      0.00      0.10         0.00         0.10\n",
      "GG            0.00      0.00      0.04         0.00         0.04\n",
      "PCFX          0.00      0.00      0.03         0.00         0.03\n"
     ]
    },
    {
     "data": {
      "image/png": "[encoded data removed]",
      "text/plain": [
       "<Figure size 640x480 with 1 Axes>"
      ]
     },
     "metadata": {},
     "output_type": "display_data"
    }
   ],
   "source": [
    "# Calculando as vendas totais por plataforma\n",
    "vendas_por_plataforma = ecommerce.groupby('platform')[['na_sales', 'eu_sales', 'jp_sales', 'other_sales']].sum()\n",
    "vendas_por_plataforma['total_sales'] = vendas_por_plataforma.sum(axis=1)\n",
    "\n",
    "# Classificando as plataformas por vendas totais\n",
    "vendas_por_plataforma = vendas_por_plataforma.sort_values(by='total_sales', ascending=False)\n",
    "\n",
    "# Exibindo as plataformas com maiores vendas totais\n",
    "print(\"Plataformas com maiores vendas totais:\")\n",
    "print(vendas_por_plataforma)\n",
    "\n",
    "# Para cada plataforma, criei uma distribuição de vendas por ano\n",
    "import matplotlib.pyplot as plt\n",
    "\n",
    "for plataforma in vendas_por_plataforma.index:\n",
    "    dados_plataforma = ecommerce[ecommerce['platform'] == plataforma]\n",
    "    vendas_por_ano = dados_plataforma.groupby('year_of_release')[['na_sales', 'eu_sales', 'jp_sales', 'other_sales']].sum().sum(axis=1)\n",
    "    \n",
    "    plt.plot(vendas_por_ano.index, vendas_por_ano.values, label=plataforma)\n",
    "\n",
    "plt.xlabel('Ano de Lançamento')\n",
    "plt.ylabel('Vendas Totais')\n",
    "plt.title('Distribuição de Vendas por Plataforma ao Longo dos Anos')\n",
    "plt.legend()\n",
    "plt.show()"
   ]
  },
  {
   "cell_type": "code",
   "execution_count": null,
   "metadata": {},
   "outputs": [
    {
     "ename": "NameError",
     "evalue": "name 'ecommerce' is not defined",
     "output_type": "error",
     "traceback": [
      "\u001b[0;31m---------------------------------------------------------------------------\u001b[0m",
      "\u001b[0;31mNameError\u001b[0m                                 Traceback (most recent call last)",
      "Cell \u001b[0;32mIn[1], line 2\u001b[0m\n\u001b[1;32m      1\u001b[0m \u001b[38;5;66;03m# Obtendo a lista de plataformas que não têm vendas no período mais recente\u001b[39;00m\n\u001b[0;32m----> 2\u001b[0m ultimos_anos \u001b[38;5;241m=\u001b[39m \u001b[43mecommerce\u001b[49m[\u001b[38;5;124m'\u001b[39m\u001b[38;5;124myear_of_release\u001b[39m\u001b[38;5;124m'\u001b[39m]\u001b[38;5;241m.\u001b[39mmax()\n\u001b[1;32m      3\u001b[0m plataformas_desaparecidas \u001b[38;5;241m=\u001b[39m ecommerce[ecommerce[\u001b[38;5;124m'\u001b[39m\u001b[38;5;124myear_of_release\u001b[39m\u001b[38;5;124m'\u001b[39m] \u001b[38;5;241m<\u001b[39m ultimos_anos]\u001b[38;5;241m.\u001b[39mgroupby(\u001b[38;5;124m'\u001b[39m\u001b[38;5;124mplatform\u001b[39m\u001b[38;5;124m'\u001b[39m)[\u001b[38;5;124m'\u001b[39m\u001b[38;5;124mtotal_sales\u001b[39m\u001b[38;5;124m'\u001b[39m]\u001b[38;5;241m.\u001b[39msum()\n\u001b[1;32m      4\u001b[0m plataformas_desaparecidas \u001b[38;5;241m=\u001b[39m plataformas_desaparecidas[plataformas_desaparecidas \u001b[38;5;241m>\u001b[39m \u001b[38;5;241m0\u001b[39m]\n",
      "\u001b[0;31mNameError\u001b[0m: name 'ecommerce' is not defined"
     ]
    }
   ],
   "source": [
    "# Obtendo a lista de plataformas que não têm vendas no período mais recente\n",
    "ultimos_anos = ecommerce['year_of_release'].max()\n",
    "plataformas_desaparecidas = ecommerce[ecommerce['year_of_release'] < ultimos_anos].groupby('platform')['total_sales'].sum()\n",
    "plataformas_desaparecidas = plataformas_desaparecidas[plataformas_desaparecidas > 0]\n",
    "\n",
    "\n",
    "print(\"Plataformas que costumavam ser populares, mas não têm vendas no período mais recente:\")\n",
    "print(plataformas_desaparecidas)"
   ]
  },
  {
   "cell_type": "code",
   "execution_count": null,
   "metadata": {},
   "outputs": [
    {
     "name": "stdout",
     "output_type": "stream",
     "text": [
      "Duração de presença de cada plataforma:\n",
      "           min   max  duracao\n",
      "platform                     \n",
      "2600      1980  1989        9\n",
      "3DO       1994  1995        1\n",
      "3DS       2011  2016        5\n",
      "DC        1998  2008       10\n",
      "DS        1985  2013       28\n",
      "GB        1988  2001       13\n",
      "GBA       2000  2007        7\n",
      "GC        2001  2007        6\n",
      "GEN       1990  1994        4\n",
      "GG        1992  1992        0\n",
      "N64       1996  2002        6\n",
      "NES       1983  1994       11\n",
      "NG        1993  1996        3\n",
      "PC        1985  2016       31\n",
      "PCFX      1996  1996        0\n",
      "PS        1994  2003        9\n",
      "PS2       2000  2011       11\n",
      "PS3       2006  2016       10\n",
      "PS4       2013  2016        3\n",
      "PSP       2004  2015       11\n",
      "PSV       2011  2016        5\n",
      "SAT       1994  1999        5\n",
      "SCD       1993  1994        1\n",
      "SNES      1990  1999        9\n",
      "TG16      1995  1995        0\n",
      "WS        1999  2001        2\n",
      "Wii       2006  2016       10\n",
      "WiiU      2012  2016        4\n",
      "X360      2005  2016       11\n",
      "XB        2000  2008        8\n",
      "XOne      2013  2016        3\n"
     ]
    }
   ],
   "source": [
    "# Calculando o ano de lançamento mais recente e mais antigo para cada plataforma\n",
    "anos_plataforma = ecommerce.groupby('platform')['year_of_release'].agg(['min', 'max'])\n",
    "\n",
    "# Calculando a duração da presença de cada plataforma\n",
    "anos_plataforma['duracao'] = anos_plataforma['max'] - anos_plataforma['min']\n",
    "\n",
    "print(\"Duração de presença de cada plataforma:\")\n",
    "print(anos_plataforma)"
   ]
  },
  {
   "cell_type": "code",
   "execution_count": null,
   "metadata": {},
   "outputs": [
    {
     "name": "stdout",
     "output_type": "stream",
     "text": [
      "2008    1427\n",
      "2009    1426\n",
      "2010    1255\n",
      "2007    1197\n",
      "2011    1136\n",
      "2006    1006\n",
      "2005     939\n",
      "2002     829\n",
      "2003     775\n",
      "2004     762\n",
      "2012     653\n",
      "2015     606\n",
      "2014     581\n",
      "2013     544\n",
      "2016     502\n",
      "2001     482\n",
      "1998     379\n",
      "2000     350\n",
      "1999     338\n",
      "1997     289\n",
      "1996     263\n",
      "1995     219\n",
      "1994     121\n",
      "1993      62\n",
      "1981      46\n",
      "1992      43\n",
      "1991      41\n",
      "1982      36\n",
      "1986      21\n",
      "1983      17\n",
      "1989      17\n",
      "1990      16\n",
      "1987      16\n",
      "1988      15\n",
      "1985      14\n",
      "1984      14\n",
      "1980       9\n",
      "Name: year_of_release, dtype: Int64\n"
     ]
    }
   ],
   "source": [
    "print(ecommerce['year_of_release'].value_counts())"
   ]
  },
  {
   "cell_type": "code",
   "execution_count": null,
   "metadata": {},
   "outputs": [
    {
     "name": "stdout",
     "output_type": "stream",
     "text": [
      "                                name platform  year_of_release         genre  \\\n",
      "16                Grand Theft Auto V      PS3             2013        Action   \n",
      "23                Grand Theft Auto V     X360             2013        Action   \n",
      "31         Call of Duty: Black Ops 3      PS4             2015       Shooter   \n",
      "33               Pokemon X/Pokemon Y      3DS             2013  Role-Playing   \n",
      "42                Grand Theft Auto V      PS4             2014        Action   \n",
      "...                              ...      ...              ...           ...   \n",
      "16703               Strawberry Nauts      PSV             2016     Adventure   \n",
      "16707               Aiyoku no Eustia      PSV             2014          Misc   \n",
      "16710  Samurai Warriors: Sanada Maru      PS3             2016        Action   \n",
      "16712        Haitaka no Psychedelica      PSV             2016     Adventure   \n",
      "16714            Winning Post 8 2016      PSV             2016    Simulation   \n",
      "\n",
      "       na_sales  eu_sales  jp_sales  other_sales  critic_score  user_score  \\\n",
      "16         7.02      9.09      0.98         3.96            97         8.2   \n",
      "23         9.66      5.14      0.06         1.41            97         8.1   \n",
      "31         6.03      5.86      0.36         2.38          <NA>         NaN   \n",
      "33         5.28      4.19      4.35         0.78          <NA>         NaN   \n",
      "42         3.96      6.31      0.38         1.97            97         8.3   \n",
      "...         ...       ...       ...          ...           ...         ...   \n",
      "16703      0.00      0.00      0.01         0.00          <NA>         NaN   \n",
      "16707      0.00      0.00      0.01         0.00          <NA>         NaN   \n",
      "16710      0.00      0.00      0.01         0.00          <NA>         NaN   \n",
      "16712      0.00      0.00      0.01         0.00          <NA>         NaN   \n",
      "16714      0.00      0.00      0.01         0.00          <NA>         NaN   \n",
      "\n",
      "      rating  total_sales  \n",
      "16         M        21.05  \n",
      "23         M        16.27  \n",
      "31       NaN        14.63  \n",
      "33       NaN        14.60  \n",
      "42         M        12.62  \n",
      "...      ...          ...  \n",
      "16703    NaN         0.01  \n",
      "16707    NaN         0.01  \n",
      "16710    NaN         0.01  \n",
      "16712    NaN         0.01  \n",
      "16714    NaN         0.01  \n",
      "\n",
      "[2233 rows x 12 columns]\n"
     ]
    }
   ],
   "source": [
    "ecommerce_relevant = ecommerce[ecommerce['year_of_release'] > 2012]\n",
    "print(ecommerce_relevant)"
   ]
  },
  {
   "cell_type": "code",
   "execution_count": null,
   "metadata": {},
   "outputs": [
    {
     "name": "stdout",
     "output_type": "stream",
     "text": [
      "platform\n",
      "PS4     314.14\n",
      "PS3     181.43\n",
      "XOne    159.32\n",
      "3DS     143.25\n",
      "X360    136.80\n",
      "WiiU     64.63\n",
      "PC       39.43\n",
      "PSV      32.99\n",
      "Wii      13.66\n",
      "PSP       3.50\n",
      "DS        1.54\n",
      "Name: total_sales, dtype: float64\n"
     ]
    }
   ],
   "source": [
    "platform_sales = ecommerce_relevant.groupby('platform')['total_sales'].sum()\n",
    "\n",
    "# Ordenando plataformas por vendas totais\n",
    "top_platforms = platform_sales.sort_values(ascending=False)\n",
    "print(top_platforms)"
   ]
  },
  {
   "cell_type": "code",
   "execution_count": null,
   "metadata": {},
   "outputs": [
    {
     "data": {
      "image/png": "[encoded data removed]",
      "text/plain": [
       "<Figure size 1200x800 with 1 Axes>"
      ]
     },
     "metadata": {},
     "output_type": "display_data"
    }
   ],
   "source": [
    "import matplotlib.pyplot as plt\n",
    "\n",
    "# Agrupando vendas por plataforma e ano\n",
    "sales_by_platform_year = ecommerce_relevant.groupby(['year_of_release', 'platform'])['total_sales'].sum().unstack()\n",
    "\n",
    "# Plotando vendas por plataforma ao longo dos anos\n",
    "sales_by_platform_year.plot(figsize=(12, 8))\n",
    "plt.title('Vendas Totais por Plataforma ao Longo dos Anos')\n",
    "plt.xlabel('Ano')\n",
    "plt.ylabel('Vendas Totais')\n",
    "plt.legend(title='Plataforma')\n",
    "plt.show()"
   ]
  },
  {
   "cell_type": "code",
   "execution_count": null,
   "metadata": {},
   "outputs": [
    {
     "name": "stdout",
     "output_type": "stream",
     "text": [
      "           min   max  active_duration\n",
      "platform                             \n",
      "3DS       2013  2016                3\n",
      "DS        2013  2013                0\n",
      "PC        2013  2016                3\n",
      "PS3       2013  2016                3\n",
      "PS4       2013  2016                3\n",
      "PSP       2013  2015                2\n",
      "PSV       2013  2016                3\n",
      "Wii       2013  2016                3\n",
      "WiiU      2013  2016                3\n",
      "X360      2013  2016                3\n",
      "XOne      2013  2016                3\n"
     ]
    }
   ],
   "source": [
    "# Calculando o intervalo de anos em que uma plataforma foi ativa\n",
    "platform_active_period = ecommerce_relevant.groupby('platform')['year_of_release'].agg(['min', 'max'])\n",
    "platform_active_period['active_duration'] = platform_active_period['max'] - platform_active_period['min']\n",
    "print(platform_active_period)"
   ]
  },
  {
   "cell_type": "code",
   "execution_count": null,
   "metadata": {},
   "outputs": [
    {
     "data": {
      "image/png": "[encoded data removed]",
      "text/plain": [
       "<Figure size 1200x800 with 1 Axes>"
      ]
     },
     "metadata": {},
     "output_type": "display_data"
    },
    {
     "name": "stdout",
     "output_type": "stream",
     "text": [
      "platform\n",
      "3DS     0.472772\n",
      "DS      0.192500\n",
      "PC      0.208624\n",
      "PS3     0.525884\n",
      "PS4     0.801378\n",
      "PSP     0.052239\n",
      "PSV     0.092151\n",
      "Wii     0.593913\n",
      "WiiU    0.562000\n",
      "X360    0.735484\n",
      "XOne    0.645020\n",
      "Name: total_sales, dtype: float64\n"
     ]
    }
   ],
   "source": [
    "import seaborn as sns\n",
    "\n",
    "# Diagrama de caixa para vendas globais por plataforma\n",
    "plt.figure(figsize=(12, 8))\n",
    "sns.boxplot(x='platform', y='total_sales', data=ecommerce_relevant)\n",
    "plt.xticks(rotation=90)\n",
    "plt.title('Distribuição das Vendas Globais por Plataforma')\n",
    "plt.xlabel('Plataforma')\n",
    "plt.ylabel('Vendas Totais')\n",
    "plt.show()\n",
    "\n",
    "# Vendas médias por plataforma\n",
    "mean_sales_by_platform = ecommerce_relevant.groupby('platform')['total_sales'].mean()\n",
    "print(mean_sales_by_platform)"
   ]
  },
  {
   "cell_type": "code",
   "execution_count": null,
   "metadata": {},
   "outputs": [
    {
     "name": "stdout",
     "output_type": "stream",
     "text": [
      "Resumo das Vendas por Plataforma:\n",
      "         total_sales        \n",
      "                mean     sum\n",
      "platform                    \n",
      "PS4         0.801378  314.14\n",
      "PS3         0.525884  181.43\n",
      "XOne        0.645020  159.32\n",
      "3DS         0.472772  143.25\n",
      "X360        0.735484  136.80\n",
      "WiiU        0.562000   64.63\n",
      "PC          0.208624   39.43\n",
      "PSV         0.092151   32.99\n",
      "Wii         0.593913   13.66\n",
      "PSP         0.052239    3.50\n",
      "DS          0.192500    1.54\n"
     ]
    }
   ],
   "source": [
    "# Vendas médias e totais por plataforma\n",
    "platform_sales_summary = ecommerce_relevant.groupby('platform').agg({\n",
    "    'total_sales': ['mean', 'sum']\n",
    "}).sort_values(('total_sales', 'sum'), ascending=False)\n",
    "\n",
    "print(\"Resumo das Vendas por Plataforma:\")\n",
    "print(platform_sales_summary)"
   ]
  },
  {
   "cell_type": "code",
   "execution_count": null,
   "metadata": {},
   "outputs": [
    {
     "name": "stdout",
     "output_type": "stream",
     "text": [
      "Resumo das Vendas por Gênero:\n",
      "             total_sales        \n",
      "                    mean     sum\n",
      "genre                           \n",
      "Action          0.420196  321.87\n",
      "Shooter         1.245882  232.98\n",
      "Sports          0.703972  150.65\n",
      "Role-Playing    0.499623  145.89\n",
      "Misc            0.405290   62.82\n",
      "Platform        0.576081   42.63\n",
      "Racing          0.469294   39.89\n",
      "Fighting        0.441375   35.31\n",
      "Adventure       0.096490   23.64\n",
      "Simulation      0.350968   21.76\n",
      "Strategy        0.180000   10.08\n",
      "Puzzle          0.186471    3.17\n"
     ]
    }
   ],
   "source": [
    "# Calculo de vendas totais e médias por gênero\n",
    "genre_sales_summary = ecommerce_relevant.groupby('genre').agg({\n",
    "    'total_sales': ['mean', 'sum']\n",
    "}).sort_values(('total_sales', 'sum'), ascending=False)\n",
    "\n",
    "print(\"Resumo das Vendas por Gênero:\")\n",
    "print(genre_sales_summary)"
   ]
  },
  {
   "cell_type": "code",
   "execution_count": null,
   "metadata": {},
   "outputs": [
    {
     "data": {
      "image/png": "[encoded data removed]",
      "text/plain": [
       "<Figure size 1400x800 with 1 Axes>"
      ]
     },
     "metadata": {},
     "output_type": "display_data"
    },
    {
     "data": {
      "image/png": "[encoded data removed]",
      "text/plain": [
       "<Figure size 1400x800 with 1 Axes>"
      ]
     },
     "metadata": {},
     "output_type": "display_data"
    }
   ],
   "source": [
    "# Diagrama de caixa para vendas globais por gênero\n",
    "plt.figure(figsize=(14, 8))\n",
    "sns.boxplot(x='genre', y='total_sales', data=ecommerce_relevant)\n",
    "plt.xticks(rotation=90)\n",
    "plt.title('Distribuição das Vendas Globais por Gênero')\n",
    "plt.xlabel('Gênero')\n",
    "plt.ylabel('Vendas Totais')\n",
    "plt.grid(True)\n",
    "plt.show()\n",
    "\n",
    "# Gráfico de barras para vendas médias por gênero\n",
    "plt.figure(figsize=(14, 8))\n",
    "genre_sales_summary['total_sales', 'mean'].plot(kind='bar')\n",
    "plt.title('Vendas Médias por Gênero')\n",
    "plt.xlabel('Gênero')\n",
    "plt.ylabel('Vendas Médias')\n",
    "plt.grid(True)\n",
    "plt.show()\n",
    "\n",
    "\n",
    "\n",
    "\n",
    "\n",
    "\n",
    "\n",
    "\n",
    "\n"
   ]
  },
  {
   "cell_type": "markdown",
   "metadata": {},
   "source": [
    "### Criando um perfil de usuário para cada região"
   ]
  },
  {
   "cell_type": "code",
   "execution_count": null,
   "metadata": {},
   "outputs": [
    {
     "name": "stdout",
     "output_type": "stream",
     "text": [
      "Index(['name', 'platform', 'year_of_release', 'genre', 'na_sales', 'eu_sales',\n",
      "       'jp_sales', 'other_sales', 'critic_score', 'user_score', 'rating',\n",
      "       'total_sales'],\n",
      "      dtype='object')\n"
     ]
    }
   ],
   "source": [
    "print(ecommerce_relevant.columns)"
   ]
  },
  {
   "cell_type": "code",
   "execution_count": null,
   "metadata": {},
   "outputs": [
    {
     "name": "stdout",
     "output_type": "stream",
     "text": [
      "   platform      NA      EU     JP  Other\n",
      "0       3DS   38.20   30.96  67.81   6.28\n",
      "1        DS    0.57    0.85   0.00   0.12\n",
      "2        PC   11.11   25.36   0.00   2.96\n",
      "3       PS3   63.50   67.81  23.35  26.77\n",
      "4       PS4  108.74  141.09  15.96  48.35\n",
      "5       PSP    0.00    0.17   3.29   0.04\n",
      "6       PSV    5.04    6.10  18.59   3.26\n",
      "7       Wii    6.56    5.93   0.05   1.12\n",
      "8      WiiU   29.21   19.85  10.88   4.69\n",
      "9      X360   81.66   42.52   0.51  12.11\n",
      "10     XOne   93.12   51.59   0.34  14.27\n"
     ]
    }
   ],
   "source": [
    "platform_sales_by_region = {\n",
    "    'NA': ecommerce_relevant.groupby('platform')['na_sales'].sum(),\n",
    "    'EU': ecommerce_relevant.groupby('platform')['eu_sales'].sum(),\n",
    "    'JP': ecommerce_relevant.groupby('platform')['jp_sales'].sum(),\n",
    "    'Other': ecommerce_relevant.groupby('platform')['other_sales'].sum()\n",
    "}\n",
    "\n",
    "# Criando um DataFrame a partir dos resultados\n",
    "platform_sales_df = pd.DataFrame(platform_sales_by_region).reset_index()\n",
    "platform_sales_df.columns.name = None  # Removendo a nomenclatura das colunas\n",
    "print(platform_sales_df)"
   ]
  },
  {
   "cell_type": "raw",
   "metadata": {},
   "source": [
    "# América do Norte (NA): Geralmente tem as maiores vendas para a maioria das plataformas, com exceção de algumas como o PSP e o PSV, onde o Japão domina.\n",
    "# Europa (EU): Vendas significativas, muitas vezes abaixo das vendas na América do Norte, mas superiores em algumas plataformas como o PS4.\n",
    "# Japão (JP): Menores vendas em comparação com América do Norte e Europa para a maioria das plataformas, com exceções como o PSP e o PSV, onde o Japão tem um desempenho muito bom.\n",
    "# Outras regiões: As vendas são geralmente menores em comparação com as principais regiões (NA, EU, JP)."
   ]
  },
  {
   "cell_type": "code",
   "execution_count": null,
   "metadata": {},
   "outputs": [
    {
     "name": "stdout",
     "output_type": "stream",
     "text": [
      "Top 5 plataformas em NA:\n",
      "  platform      NA      EU     JP  Other\n",
      "0      PS4  108.74  141.09  15.96  48.35\n",
      "1     XOne   93.12   51.59   0.34  14.27\n",
      "2     X360   81.66   42.52   0.51  12.11\n",
      "3      PS3   63.50   67.81  23.35  26.77\n",
      "4      3DS   38.20   30.96  67.81   6.28\n",
      "\n",
      "Top 5 plataformas em EU:\n",
      "  platform      NA      EU     JP  Other\n",
      "0      PS4  108.74  141.09  15.96  48.35\n",
      "1      PS3   63.50   67.81  23.35  26.77\n",
      "2     XOne   93.12   51.59   0.34  14.27\n",
      "3     X360   81.66   42.52   0.51  12.11\n",
      "4      3DS   38.20   30.96  67.81   6.28\n",
      "\n",
      "Top 5 plataformas em JP:\n",
      "  platform      NA      EU     JP  Other\n",
      "0      3DS   38.20   30.96  67.81   6.28\n",
      "1      PS3   63.50   67.81  23.35  26.77\n",
      "2      PSV    5.04    6.10  18.59   3.26\n",
      "3      PS4  108.74  141.09  15.96  48.35\n",
      "4     WiiU   29.21   19.85  10.88   4.69\n",
      "\n",
      "Top 5 plataformas em Other:\n",
      "  platform      NA      EU     JP  Other\n",
      "0      PS4  108.74  141.09  15.96  48.35\n",
      "1      PS3   63.50   67.81  23.35  26.77\n",
      "2     XOne   93.12   51.59   0.34  14.27\n",
      "3     X360   81.66   42.52   0.51  12.11\n",
      "4      3DS   38.20   30.96  67.81   6.28\n",
      "\n"
     ]
    }
   ],
   "source": [
    "# Encontrando as cinco principais plataformas por região\n",
    "top_5_platforms_by_region = {}\n",
    "for region in ['NA', 'EU', 'JP', 'Other']:\n",
    "    top_5_platforms_by_region[region] = platform_sales_df.nlargest(5, region).reset_index(drop=True)\n",
    "\n",
    "# Exibindo os resultados\n",
    "for region, df in top_5_platforms_by_region.items():\n",
    "    print(f\"Top 5 plataformas em {region}:\")\n",
    "    print(df)\n",
    "    print()"
   ]
  },
  {
   "cell_type": "code",
   "execution_count": null,
   "metadata": {},
   "outputs": [
    {
     "name": "stdout",
     "output_type": "stream",
     "text": [
      "\n",
      "Top 5 gêneros em NA:\n",
      "          genre  total_sales\n",
      "0        Action       126.05\n",
      "1       Shooter       109.74\n",
      "2        Sports        65.27\n",
      "3  Role-Playing        46.40\n",
      "4          Misc        27.49\n",
      "\n",
      "Top 5 gêneros em EU:\n",
      "          genre  total_sales\n",
      "0        Action       118.13\n",
      "1       Shooter        87.86\n",
      "2        Sports        60.52\n",
      "3  Role-Playing        36.97\n",
      "4        Racing        20.19\n",
      "\n",
      "Top 5 gêneros em JP:\n",
      "          genre  total_sales\n",
      "0  Role-Playing        51.04\n",
      "1        Action        40.49\n",
      "2          Misc         9.20\n",
      "3      Fighting         7.65\n",
      "4       Shooter         6.61\n",
      "\n",
      "Top 5 gêneros em Other:\n",
      "          genre  total_sales\n",
      "0        Action        37.20\n",
      "1       Shooter        28.77\n",
      "2        Sports        19.45\n",
      "3  Role-Playing        11.48\n",
      "4          Misc         6.09\n"
     ]
    }
   ],
   "source": [
    "# Agrupando por região e gênero e calculando vendas totais\n",
    "genre_sales_by_region = {\n",
    "    'NA': ecommerce_relevant.groupby('genre')['na_sales'].sum(),\n",
    "    'EU': ecommerce_relevant.groupby('genre')['eu_sales'].sum(),\n",
    "    'JP': ecommerce_relevant.groupby('genre')['jp_sales'].sum(),\n",
    "    'Other': ecommerce_relevant.groupby('genre')['other_sales'].sum()\n",
    "}\n",
    "\n",
    "# Encontrando os cinco principais gêneros por região\n",
    "top_5_genres_by_region = {}\n",
    "for region, series in genre_sales_by_region.items():\n",
    "    top_5_genres_by_region[region] = series.nlargest(5).reset_index(name='total_sales')\n",
    "\n",
    "# Exibindo os resultados\n",
    "for region, df in top_5_genres_by_region.items():\n",
    "    print(f\"\\nTop 5 gêneros em {region}:\")\n",
    "    print(df)"
   ]
  },
  {
   "cell_type": "code",
   "execution_count": null,
   "metadata": {},
   "outputs": [
    {
     "name": "stdout",
     "output_type": "stream",
     "text": [
      "Vendas totais por classificação do ESRB em NA:\n",
      "  rating  na_sales\n",
      "0     AO      0.00\n",
      "1      E     79.05\n",
      "2   E10+     54.24\n",
      "3     EC      0.00\n",
      "4    K-A      0.00\n",
      "5      M    165.21\n",
      "6     RP      0.00\n",
      "7      T     49.79\n",
      "\n",
      "Vendas totais por classificação do ESRB em EU:\n",
      "  rating  eu_sales\n",
      "0     AO      0.00\n",
      "1      E     83.36\n",
      "2   E10+     42.69\n",
      "3     EC      0.00\n",
      "4    K-A      0.00\n",
      "5      M    145.32\n",
      "6     RP      0.00\n",
      "7      T     41.95\n",
      "\n",
      "Vendas totais por classificação do ESRB em JP:\n",
      "  rating  jp_sales\n",
      "0     AO      0.00\n",
      "1      E     15.14\n",
      "2   E10+      5.89\n",
      "3     EC      0.00\n",
      "4    K-A      0.00\n",
      "5      M     14.11\n",
      "6     RP      0.00\n",
      "7      T     20.59\n",
      "\n",
      "Vendas totais por classificação do ESRB em Other:\n",
      "  rating  other_sales\n",
      "0     AO         0.00\n",
      "1      E        22.61\n",
      "2   E10+        12.57\n",
      "3     EC         0.00\n",
      "4    K-A         0.00\n",
      "5      M        47.04\n",
      "6     RP         0.00\n",
      "7      T        14.29\n",
      "\n"
     ]
    }
   ],
   "source": [
    "# Calculando vendas totais por classificação do ESRB em cada região\n",
    "rating_sales_by_region = {\n",
    "    'NA': ecommerce_relevant.groupby('rating')['na_sales'].sum(),\n",
    "    'EU': ecommerce_relevant.groupby('rating')['eu_sales'].sum(),\n",
    "    'JP': ecommerce_relevant.groupby('rating')['jp_sales'].sum(),\n",
    "    'Other': ecommerce_relevant.groupby('rating')['other_sales'].sum()\n",
    "}\n",
    "\n",
    "# Criando DataFrames a partir dos resultados\n",
    "rating_sales_df = {region: pd.DataFrame(sales).reset_index() for region, sales in rating_sales_by_region.items()}\n",
    "\n",
    "# Exibindo os resultados\n",
    "for region, df in rating_sales_df.items():\n",
    "    print(f\"Vendas totais por classificação do ESRB em {region}:\")\n",
    "    print(df)\n",
    "    print()"
   ]
  },
  {
   "cell_type": "raw",
   "metadata": {},
   "source": [
    "# Sim, as classificações do ESRB afetam as vendas em regiões individuais. A preferência por certos tipos de classificações varia entre as regiões, refletindo as diferenças culturais e as regulamentações locais sobre conteúdo de jogos. Classificações como M e E tendem a ter melhores vendas em mercados como NA e EU, enquanto no Japão, Unknown pode ter uma presença maior, possivelmente devido a diferenças na categorização de jogos ou preferências locais."
   ]
  },
  {
   "cell_type": "markdown",
   "metadata": {},
   "source": [
    "### Testando as hipóteses"
   ]
  },
  {
   "cell_type": "code",
   "execution_count": null,
   "metadata": {},
   "outputs": [
    {
     "name": "stdout",
     "output_type": "stream",
     "text": [
      "Valor-p: 1.3896435533548819e-05\n",
      "Rejeitamos a hipótese nula: As receitas médias dos usuários dos planos XOne e PC são diferentes.\n"
     ]
    }
   ],
   "source": [
    "from scipy import stats as st\n",
    "\n",
    "xbox_games = ecommerce[ecommerce['platform'] == 'XOne']['user_score'].dropna()\n",
    "pc_games = ecommerce[ecommerce['platform'] == 'PC']['user_score'].dropna()\n",
    "\n",
    "results = st.ttest_ind(xbox_games, pc_games)\n",
    "\n",
    "print('Valor-p:', results.pvalue)\n",
    "\n",
    "alpha = 0.05\n",
    "\n",
    "if results.pvalue < alpha:\n",
    "    print('Rejeitamos a hipótese nula: As receitas médias dos usuários dos planos XOne e PC são diferentes.')\n",
    "else:\n",
    "    print('Não podemos rejeitar a hipótese nula.')\n"
   ]
  },
  {
   "cell_type": "code",
   "execution_count": null,
   "metadata": {},
   "outputs": [],
   "source": [
    "action_rating = np.var(xbox_games, ddof=1)\n",
    "pc_rating = np.var(pc_games, ddof=1)\n",
    "\n",
    "# Verificar a razão das variâncias\n",
    "ratio_variance = action_rating / pc_rating\n",
    "\n",
    "if 0.5 < ratio_variance < 2:\n",
    "    print(\"As variâncias são aproximadamente iguais.\")\n",
    "    equal_var = True\n",
    "else:\n",
    "    print(\"As variâncias são diferentes.\")\n",
    "    equal_var = False\n",
    "\n",
    "# Realizar o teste t usando as amostras\n",
    "results = st.ttest_ind(xbox_one_scores, pc_scores, equal_var=equal_var)\n",
    "\n",
    "# Definir o nível de significância\n",
    "alpha = 0.05\n",
    "\n",
    "# Interpretar os resultados\n",
    "if results.pvalue < alpha:\n",
    "    print(\"Rejeitamos a hipótese nula: há uma diferença significativa entre as médias das classificações.\")\n",
    "else:\n",
    "    print(\"Não rejeitamos a hipótese nula: não há uma diferença significativa entre as médias das classificações.\")\n"
   ]
  },
  {
   "cell_type": "raw",
   "metadata": {},
   "source": [
    "# Formulei as hipóteses para testar se havia diferença ou não e utilizei o critério do valor p(0,05) para decidir se as evidências contra a hipótese nula são suficientes."
   ]
  },
  {
   "cell_type": "markdown",
   "metadata": {},
   "source": [
    "### Conclusão"
   ]
  },
  {
   "cell_type": "raw",
   "metadata": {},
   "source": [
    "Os jogos de mais sucesso geralmente são lançados em plataformas mais populares como PS4 e Xbox One e estão enquadrados nos gêneros de ação e esportes, sendo mais promovidos nas regiões norte americana e europa."
   ]
  }
 ],
 "metadata": {
  "ExecuteTimeLog": [
   {
    "duration": 2203,
    "start_time": "2024-08-27T21:26:06.868Z"
   },
   {
    "duration": 6,
    "start_time": "2024-08-27T21:28:36.770Z"
   },
   {
    "duration": 40,
    "start_time": "2024-08-27T21:28:59.045Z"
   },
   {
    "duration": 13,
    "start_time": "2024-08-27T21:29:17.238Z"
   },
   {
    "duration": 11,
    "start_time": "2024-08-27T21:30:39.521Z"
   },
   {
    "duration": 10,
    "start_time": "2024-08-27T21:31:14.483Z"
   },
   {
    "duration": 4,
    "start_time": "2024-08-27T21:35:24.731Z"
   },
   {
    "duration": 185,
    "start_time": "2024-08-27T21:35:27.651Z"
   },
   {
    "duration": 3,
    "start_time": "2024-08-27T21:35:53.792Z"
   },
   {
    "duration": 2,
    "start_time": "2024-08-27T21:35:56.159Z"
   },
   {
    "duration": 4,
    "start_time": "2024-08-27T21:35:58.595Z"
   },
   {
    "duration": 13,
    "start_time": "2024-08-27T21:36:52.073Z"
   },
   {
    "duration": 3,
    "start_time": "2024-08-27T21:36:57.893Z"
   },
   {
    "duration": 3,
    "start_time": "2024-08-27T21:38:05.794Z"
   },
   {
    "duration": 3,
    "start_time": "2024-08-27T21:38:14.747Z"
   },
   {
    "duration": 3,
    "start_time": "2024-08-27T21:38:33.336Z"
   },
   {
    "duration": 12,
    "start_time": "2024-08-27T21:40:17.743Z"
   },
   {
    "duration": 3,
    "start_time": "2024-08-27T21:43:40.848Z"
   },
   {
    "duration": 12,
    "start_time": "2024-08-27T21:46:11.891Z"
   },
   {
    "duration": 34,
    "start_time": "2024-08-27T21:46:51.913Z"
   },
   {
    "duration": 3,
    "start_time": "2024-08-27T21:50:11.435Z"
   },
   {
    "duration": 2,
    "start_time": "2024-08-27T21:55:39.701Z"
   },
   {
    "duration": 11,
    "start_time": "2024-08-27T21:56:44.521Z"
   },
   {
    "duration": 30,
    "start_time": "2024-08-27T21:56:53.052Z"
   },
   {
    "duration": 3,
    "start_time": "2024-08-27T21:57:16.430Z"
   },
   {
    "duration": 3,
    "start_time": "2024-08-28T17:14:40.797Z"
   },
   {
    "duration": 156,
    "start_time": "2024-08-28T17:14:56.881Z"
   },
   {
    "duration": 11,
    "start_time": "2024-08-28T17:15:16.378Z"
   },
   {
    "duration": 12,
    "start_time": "2024-08-28T17:15:25.697Z"
   },
   {
    "duration": 12,
    "start_time": "2024-08-28T17:15:33.068Z"
   },
   {
    "duration": 2123,
    "start_time": "2024-08-28T17:15:38.492Z"
   },
   {
    "duration": 90,
    "start_time": "2024-08-28T17:15:40.681Z"
   },
   {
    "duration": 12,
    "start_time": "2024-08-28T17:15:43.599Z"
   },
   {
    "duration": 2,
    "start_time": "2024-08-28T17:15:44.886Z"
   },
   {
    "duration": 46,
    "start_time": "2024-08-28T17:15:46.375Z"
   },
   {
    "duration": 12,
    "start_time": "2024-08-28T17:16:02.481Z"
   },
   {
    "duration": 9,
    "start_time": "2024-08-28T17:16:18.960Z"
   },
   {
    "duration": 3,
    "start_time": "2024-08-28T17:16:32.446Z"
   },
   {
    "duration": 8,
    "start_time": "2024-08-28T17:17:41.351Z"
   },
   {
    "duration": 395,
    "start_time": "2024-08-28T17:23:13.382Z"
   },
   {
    "duration": 10,
    "start_time": "2024-08-28T17:24:46.118Z"
   },
   {
    "duration": 5,
    "start_time": "2024-08-28T17:24:52.037Z"
   },
   {
    "duration": 4,
    "start_time": "2024-08-28T17:25:04.448Z"
   },
   {
    "duration": 9,
    "start_time": "2024-08-28T17:25:44.724Z"
   },
   {
    "duration": 12,
    "start_time": "2024-08-28T17:26:27.799Z"
   },
   {
    "duration": 11,
    "start_time": "2024-08-28T17:26:48.785Z"
   },
   {
    "duration": 657,
    "start_time": "2024-08-28T17:45:39.738Z"
   },
   {
    "duration": 86,
    "start_time": "2024-08-28T17:47:18.863Z"
   },
   {
    "duration": 76,
    "start_time": "2024-08-28T17:48:30.520Z"
   },
   {
    "duration": 94,
    "start_time": "2024-08-28T17:57:12.799Z"
   },
   {
    "duration": 82,
    "start_time": "2024-08-28T17:58:03.015Z"
   },
   {
    "duration": 79,
    "start_time": "2024-08-28T17:59:44.621Z"
   },
   {
    "duration": 73,
    "start_time": "2024-08-28T18:03:00.817Z"
   },
   {
    "duration": 76,
    "start_time": "2024-08-28T18:03:17.429Z"
   },
   {
    "duration": 84,
    "start_time": "2024-08-28T18:05:34.703Z"
   },
   {
    "duration": 85,
    "start_time": "2024-08-28T18:06:12.697Z"
   },
   {
    "duration": 12,
    "start_time": "2024-08-28T18:07:43.982Z"
   },
   {
    "duration": 5,
    "start_time": "2024-08-28T18:10:09.369Z"
   },
   {
    "duration": 6,
    "start_time": "2024-08-28T18:10:20.697Z"
   },
   {
    "duration": 72,
    "start_time": "2024-08-28T18:11:42.111Z"
   },
   {
    "duration": 204,
    "start_time": "2024-08-28T18:12:47.610Z"
   },
   {
    "duration": 219,
    "start_time": "2024-08-28T18:14:27.167Z"
   },
   {
    "duration": 12,
    "start_time": "2024-08-28T18:15:04.812Z"
   },
   {
    "duration": 7,
    "start_time": "2024-08-28T18:15:18.403Z"
   },
   {
    "duration": 99,
    "start_time": "2024-08-28T18:18:15.950Z"
   },
   {
    "duration": 73,
    "start_time": "2024-08-28T18:20:22.008Z"
   },
   {
    "duration": 90,
    "start_time": "2024-08-28T18:21:11.205Z"
   },
   {
    "duration": 7,
    "start_time": "2024-08-28T18:21:39.898Z"
   },
   {
    "duration": 2,
    "start_time": "2024-08-28T18:24:09.129Z"
   },
   {
    "duration": 2,
    "start_time": "2024-08-28T18:24:09.886Z"
   },
   {
    "duration": 31,
    "start_time": "2024-08-28T18:24:10.824Z"
   },
   {
    "duration": 11,
    "start_time": "2024-08-28T18:24:12.282Z"
   },
   {
    "duration": 2,
    "start_time": "2024-08-28T18:24:12.754Z"
   },
   {
    "duration": 3,
    "start_time": "2024-08-28T18:24:14.309Z"
   },
   {
    "duration": 7,
    "start_time": "2024-08-28T18:24:15.766Z"
   },
   {
    "duration": 14,
    "start_time": "2024-08-28T18:24:16.979Z"
   },
   {
    "duration": 13,
    "start_time": "2024-08-28T18:24:18.014Z"
   },
   {
    "duration": 83,
    "start_time": "2024-08-28T18:24:20.542Z"
   },
   {
    "duration": 13,
    "start_time": "2024-08-28T18:24:29.320Z"
   },
   {
    "duration": 7,
    "start_time": "2024-08-28T18:24:31.575Z"
   },
   {
    "duration": 96,
    "start_time": "2024-08-28T18:24:33.206Z"
   },
   {
    "duration": 8,
    "start_time": "2024-08-28T18:24:34.787Z"
   },
   {
    "duration": 10,
    "start_time": "2024-08-28T18:25:50.266Z"
   },
   {
    "duration": 56,
    "start_time": "2024-08-28T18:27:03.098Z"
   },
   {
    "duration": 34,
    "start_time": "2024-08-28T18:27:32.138Z"
   },
   {
    "duration": 2,
    "start_time": "2024-08-28T18:28:04.485Z"
   },
   {
    "duration": 2,
    "start_time": "2024-08-28T18:28:05.187Z"
   },
   {
    "duration": 30,
    "start_time": "2024-08-28T18:28:05.995Z"
   },
   {
    "duration": 12,
    "start_time": "2024-08-28T18:28:06.897Z"
   },
   {
    "duration": 2,
    "start_time": "2024-08-28T18:28:07.261Z"
   },
   {
    "duration": 3,
    "start_time": "2024-08-28T18:28:08.114Z"
   },
   {
    "duration": 7,
    "start_time": "2024-08-28T18:28:09.047Z"
   },
   {
    "duration": 13,
    "start_time": "2024-08-28T18:28:09.981Z"
   },
   {
    "duration": 11,
    "start_time": "2024-08-28T18:28:10.468Z"
   },
   {
    "duration": 85,
    "start_time": "2024-08-28T18:28:12.875Z"
   },
   {
    "duration": 13,
    "start_time": "2024-08-28T18:28:13.612Z"
   },
   {
    "duration": 7,
    "start_time": "2024-08-28T18:28:14.434Z"
   },
   {
    "duration": 85,
    "start_time": "2024-08-28T18:28:15.136Z"
   },
   {
    "duration": 6,
    "start_time": "2024-08-28T18:28:16.169Z"
   },
   {
    "duration": 10,
    "start_time": "2024-08-28T18:28:17.139Z"
   },
   {
    "duration": 3,
    "start_time": "2024-08-28T18:28:48.736Z"
   },
   {
    "duration": 2,
    "start_time": "2024-08-28T18:28:49.319Z"
   },
   {
    "duration": 30,
    "start_time": "2024-08-28T18:28:50.164Z"
   },
   {
    "duration": 11,
    "start_time": "2024-08-28T18:28:51.078Z"
   },
   {
    "duration": 2,
    "start_time": "2024-08-28T18:28:51.735Z"
   },
   {
    "duration": 4,
    "start_time": "2024-08-28T18:28:52.785Z"
   },
   {
    "duration": 8,
    "start_time": "2024-08-28T18:28:53.842Z"
   },
   {
    "duration": 14,
    "start_time": "2024-08-28T18:28:55.038Z"
   },
   {
    "duration": 11,
    "start_time": "2024-08-28T18:28:55.983Z"
   },
   {
    "duration": 86,
    "start_time": "2024-08-28T18:28:58.623Z"
   },
   {
    "duration": 12,
    "start_time": "2024-08-28T18:28:59.186Z"
   },
   {
    "duration": 6,
    "start_time": "2024-08-28T18:28:59.679Z"
   },
   {
    "duration": 85,
    "start_time": "2024-08-28T18:29:00.519Z"
   },
   {
    "duration": 7,
    "start_time": "2024-08-28T18:29:02.019Z"
   },
   {
    "duration": 13,
    "start_time": "2024-08-28T18:29:02.911Z"
   },
   {
    "duration": 2,
    "start_time": "2024-08-28T18:36:38.917Z"
   },
   {
    "duration": 15,
    "start_time": "2024-08-28T18:37:28.973Z"
   },
   {
    "duration": 12,
    "start_time": "2024-08-28T18:37:55.269Z"
   },
   {
    "duration": 7,
    "start_time": "2024-08-28T18:38:04.868Z"
   },
   {
    "duration": 8,
    "start_time": "2024-08-28T18:39:14.199Z"
   },
   {
    "duration": 6,
    "start_time": "2024-08-28T18:40:22.076Z"
   },
   {
    "duration": 8,
    "start_time": "2024-08-28T18:40:46.540Z"
   },
   {
    "duration": 8,
    "start_time": "2024-08-28T18:44:12.056Z"
   },
   {
    "duration": 14,
    "start_time": "2024-08-28T18:44:41.824Z"
   },
   {
    "duration": 4,
    "start_time": "2024-08-28T18:46:45.251Z"
   },
   {
    "duration": 4,
    "start_time": "2024-08-28T18:47:49.401Z"
   },
   {
    "duration": 8,
    "start_time": "2024-08-28T18:48:08.224Z"
   },
   {
    "duration": 6,
    "start_time": "2024-08-28T19:01:22.597Z"
   },
   {
    "duration": 4,
    "start_time": "2024-08-28T19:01:36.027Z"
   },
   {
    "duration": 3,
    "start_time": "2024-08-28T19:06:14.610Z"
   },
   {
    "duration": 472,
    "start_time": "2024-08-28T19:06:59.442Z"
   },
   {
    "duration": 439,
    "start_time": "2024-08-28T19:07:40.768Z"
   },
   {
    "duration": 8,
    "start_time": "2024-08-28T19:09:04.778Z"
   },
   {
    "duration": 8,
    "start_time": "2024-08-28T19:09:23.967Z"
   },
   {
    "duration": 8,
    "start_time": "2024-08-28T19:10:56.860Z"
   },
   {
    "duration": 9,
    "start_time": "2024-08-28T19:11:47.717Z"
   },
   {
    "duration": 4,
    "start_time": "2024-08-28T19:14:16.773Z"
   },
   {
    "duration": 2,
    "start_time": "2024-08-28T19:15:19.522Z"
   },
   {
    "duration": 4,
    "start_time": "2024-08-28T19:18:13.471Z"
   },
   {
    "duration": 10,
    "start_time": "2024-08-28T19:18:24.577Z"
   },
   {
    "duration": 6,
    "start_time": "2024-08-28T19:18:46.999Z"
   },
   {
    "duration": 6,
    "start_time": "2024-08-28T19:18:57.824Z"
   },
   {
    "duration": 251,
    "start_time": "2024-08-28T19:19:10.497Z"
   },
   {
    "duration": 8,
    "start_time": "2024-08-28T19:19:59.316Z"
   },
   {
    "duration": 8,
    "start_time": "2024-08-28T19:20:05.986Z"
   },
   {
    "duration": 588,
    "start_time": "2024-08-28T19:20:40.423Z"
   },
   {
    "duration": 9,
    "start_time": "2024-08-28T19:22:17.346Z"
   },
   {
    "duration": 8,
    "start_time": "2024-08-28T19:22:28.042Z"
   },
   {
    "duration": 6,
    "start_time": "2024-08-28T19:22:44.216Z"
   },
   {
    "duration": 568,
    "start_time": "2024-08-28T19:22:50.740Z"
   },
   {
    "duration": 9,
    "start_time": "2024-08-28T19:23:09.906Z"
   },
   {
    "duration": 2,
    "start_time": "2024-08-28T19:25:41.861Z"
   },
   {
    "duration": 183,
    "start_time": "2024-08-28T19:25:57.887Z"
   },
   {
    "duration": 3,
    "start_time": "2024-08-28T19:27:24.037Z"
   },
   {
    "duration": 11,
    "start_time": "2024-08-28T19:27:55.554Z"
   },
   {
    "duration": 12,
    "start_time": "2024-08-28T19:28:04.048Z"
   },
   {
    "duration": 14,
    "start_time": "2024-08-28T19:30:50.746Z"
   },
   {
    "duration": 168,
    "start_time": "2024-08-28T19:31:41.820Z"
   },
   {
    "duration": 14,
    "start_time": "2024-08-28T19:32:35.283Z"
   },
   {
    "duration": 14,
    "start_time": "2024-08-28T19:32:49.124Z"
   },
   {
    "duration": 15,
    "start_time": "2024-08-28T19:33:22.550Z"
   },
   {
    "duration": 14,
    "start_time": "2024-08-28T19:33:36.067Z"
   },
   {
    "duration": 4,
    "start_time": "2024-08-28T19:34:36.723Z"
   },
   {
    "duration": 43,
    "start_time": "2024-08-28T19:35:56.909Z"
   },
   {
    "duration": 41,
    "start_time": "2024-08-28T19:36:06.836Z"
   },
   {
    "duration": 45,
    "start_time": "2024-08-28T19:37:14.105Z"
   },
   {
    "duration": 11,
    "start_time": "2024-08-28T19:37:31.836Z"
   },
   {
    "duration": 3,
    "start_time": "2024-08-28T19:37:46.609Z"
   },
   {
    "duration": 6,
    "start_time": "2024-08-28T19:38:22.357Z"
   },
   {
    "duration": 6,
    "start_time": "2024-08-28T19:40:11.920Z"
   },
   {
    "duration": 3,
    "start_time": "2024-08-28T19:40:56.605Z"
   },
   {
    "duration": 3,
    "start_time": "2024-08-28T19:44:27.988Z"
   },
   {
    "duration": 4,
    "start_time": "2024-08-28T19:44:40.381Z"
   },
   {
    "duration": 5,
    "start_time": "2024-08-28T19:46:19.469Z"
   },
   {
    "duration": 157,
    "start_time": "2024-08-29T16:52:30.367Z"
   },
   {
    "duration": 2192,
    "start_time": "2024-08-29T16:52:37.655Z"
   },
   {
    "duration": 6,
    "start_time": "2024-08-29T16:52:40.864Z"
   },
   {
    "duration": 4,
    "start_time": "2024-08-29T16:52:41.590Z"
   },
   {
    "duration": 49,
    "start_time": "2024-08-29T16:52:42.352Z"
   },
   {
    "duration": 11,
    "start_time": "2024-08-29T16:52:44.555Z"
   },
   {
    "duration": 2,
    "start_time": "2024-08-29T16:52:45.395Z"
   },
   {
    "duration": 4,
    "start_time": "2024-08-29T16:52:46.786Z"
   },
   {
    "duration": 7,
    "start_time": "2024-08-29T16:52:48.134Z"
   },
   {
    "duration": 16,
    "start_time": "2024-08-29T16:52:49.498Z"
   },
   {
    "duration": 12,
    "start_time": "2024-08-29T16:52:51.924Z"
   },
   {
    "duration": 48,
    "start_time": "2024-08-29T16:53:19.296Z"
   },
   {
    "duration": 17,
    "start_time": "2024-08-29T16:53:56.438Z"
   },
   {
    "duration": 17,
    "start_time": "2024-08-29T16:54:00.300Z"
   },
   {
    "duration": 11,
    "start_time": "2024-08-29T16:54:27.422Z"
   },
   {
    "duration": 8,
    "start_time": "2024-08-29T16:54:33.148Z"
   },
   {
    "duration": 15,
    "start_time": "2024-08-29T16:55:26.800Z"
   },
   {
    "duration": 11,
    "start_time": "2024-08-29T16:55:55.152Z"
   },
   {
    "duration": 7,
    "start_time": "2024-08-29T16:58:24.802Z"
   },
   {
    "duration": 9,
    "start_time": "2024-08-29T16:58:39.093Z"
   },
   {
    "duration": 2,
    "start_time": "2024-08-29T16:59:20.793Z"
   },
   {
    "duration": 18,
    "start_time": "2024-08-29T16:59:28.261Z"
   },
   {
    "duration": 4,
    "start_time": "2024-08-29T16:59:35.774Z"
   },
   {
    "duration": 6,
    "start_time": "2024-08-29T16:59:54.878Z"
   },
   {
    "duration": 2,
    "start_time": "2024-08-29T17:02:30.870Z"
   },
   {
    "duration": 549,
    "start_time": "2024-08-29T17:02:33.008Z"
   },
   {
    "duration": 8,
    "start_time": "2024-08-29T17:02:46.114Z"
   },
   {
    "duration": 8,
    "start_time": "2024-08-29T17:02:51.508Z"
   },
   {
    "duration": 5,
    "start_time": "2024-08-29T17:02:54.993Z"
   },
   {
    "duration": 15,
    "start_time": "2024-08-29T17:02:59.287Z"
   },
   {
    "duration": 11,
    "start_time": "2024-08-29T17:03:04.191Z"
   },
   {
    "duration": 250,
    "start_time": "2024-08-29T17:04:11.362Z"
   },
   {
    "duration": 9,
    "start_time": "2024-08-29T17:04:17.530Z"
   },
   {
    "duration": 661,
    "start_time": "2024-08-29T17:04:43.275Z"
   },
   {
    "duration": 9,
    "start_time": "2024-08-29T17:04:51.353Z"
   },
   {
    "duration": 9,
    "start_time": "2024-08-29T17:05:03.909Z"
   },
   {
    "duration": 464,
    "start_time": "2024-08-29T17:05:07.497Z"
   },
   {
    "duration": 3,
    "start_time": "2024-08-29T17:05:18.534Z"
   },
   {
    "duration": 10,
    "start_time": "2024-08-29T17:05:19.635Z"
   },
   {
    "duration": 17,
    "start_time": "2024-08-29T17:05:26.010Z"
   },
   {
    "duration": 16,
    "start_time": "2024-08-29T17:05:30.323Z"
   },
   {
    "duration": 19,
    "start_time": "2024-08-29T17:06:24.635Z"
   },
   {
    "duration": 3,
    "start_time": "2024-08-29T17:07:11.855Z"
   },
   {
    "duration": 7,
    "start_time": "2024-08-29T17:07:17.686Z"
   },
   {
    "duration": 3,
    "start_time": "2024-08-29T17:07:23.973Z"
   },
   {
    "duration": 159,
    "start_time": "2024-08-29T17:11:36.119Z"
   },
   {
    "duration": 2,
    "start_time": "2024-08-29T17:12:04.185Z"
   },
   {
    "duration": 547,
    "start_time": "2024-08-29T17:12:04.911Z"
   },
   {
    "duration": 38,
    "start_time": "2024-08-29T17:12:05.727Z"
   },
   {
    "duration": 12,
    "start_time": "2024-08-29T17:12:07.012Z"
   },
   {
    "duration": 2,
    "start_time": "2024-08-29T17:12:07.434Z"
   },
   {
    "duration": 4,
    "start_time": "2024-08-29T17:12:08.383Z"
   },
   {
    "duration": 7,
    "start_time": "2024-08-29T17:12:09.237Z"
   },
   {
    "duration": 13,
    "start_time": "2024-08-29T17:12:10.050Z"
   },
   {
    "duration": 11,
    "start_time": "2024-08-29T17:12:10.479Z"
   },
   {
    "duration": 13,
    "start_time": "2024-08-29T17:12:12.250Z"
   },
   {
    "duration": 8,
    "start_time": "2024-08-29T17:12:13.347Z"
   },
   {
    "duration": 9,
    "start_time": "2024-08-29T17:12:14.180Z"
   },
   {
    "duration": 3,
    "start_time": "2024-08-29T17:12:14.623Z"
   },
   {
    "duration": 13,
    "start_time": "2024-08-29T17:12:15.713Z"
   },
   {
    "duration": 4,
    "start_time": "2024-08-29T17:12:16.378Z"
   },
   {
    "duration": 6,
    "start_time": "2024-08-29T17:12:17.545Z"
   },
   {
    "duration": 3,
    "start_time": "2024-08-29T17:12:18.104Z"
   },
   {
    "duration": 471,
    "start_time": "2024-08-29T17:12:19.075Z"
   },
   {
    "duration": 9,
    "start_time": "2024-08-29T17:12:19.954Z"
   },
   {
    "duration": 8,
    "start_time": "2024-08-29T17:12:20.436Z"
   },
   {
    "duration": 5,
    "start_time": "2024-08-29T17:12:20.864Z"
   },
   {
    "duration": 14,
    "start_time": "2024-08-29T17:12:21.295Z"
   },
   {
    "duration": 5,
    "start_time": "2024-08-29T17:12:22.137Z"
   },
   {
    "duration": 251,
    "start_time": "2024-08-29T17:12:22.884Z"
   },
   {
    "duration": 9,
    "start_time": "2024-08-29T17:12:23.978Z"
   },
   {
    "duration": 656,
    "start_time": "2024-08-29T17:12:24.698Z"
   },
   {
    "duration": 10,
    "start_time": "2024-08-29T17:12:25.362Z"
   },
   {
    "duration": 8,
    "start_time": "2024-08-29T17:12:26.313Z"
   },
   {
    "duration": 454,
    "start_time": "2024-08-29T17:12:26.790Z"
   },
   {
    "duration": 3,
    "start_time": "2024-08-29T17:12:28.246Z"
   },
   {
    "duration": 12,
    "start_time": "2024-08-29T17:12:29.977Z"
   },
   {
    "duration": 14,
    "start_time": "2024-08-29T17:12:31.409Z"
   },
   {
    "duration": 74,
    "start_time": "2024-08-29T17:12:32.082Z"
   },
   {
    "duration": 14,
    "start_time": "2024-08-29T17:12:32.607Z"
   },
   {
    "duration": 82,
    "start_time": "2024-08-29T17:12:35.705Z"
   },
   {
    "duration": 2,
    "start_time": "2024-08-29T17:14:36.875Z"
   },
   {
    "duration": 30,
    "start_time": "2024-08-29T17:14:39.153Z"
   },
   {
    "duration": 12,
    "start_time": "2024-08-29T17:14:40.020Z"
   },
   {
    "duration": 2,
    "start_time": "2024-08-29T17:14:40.393Z"
   },
   {
    "duration": 4,
    "start_time": "2024-08-29T17:14:41.246Z"
   },
   {
    "duration": 7,
    "start_time": "2024-08-29T17:14:42.165Z"
   },
   {
    "duration": 17,
    "start_time": "2024-08-29T17:14:43.225Z"
   },
   {
    "duration": 12,
    "start_time": "2024-08-29T17:14:43.830Z"
   },
   {
    "duration": 12,
    "start_time": "2024-08-29T17:14:46.034Z"
   },
   {
    "duration": 7,
    "start_time": "2024-08-29T17:14:46.871Z"
   },
   {
    "duration": 8,
    "start_time": "2024-08-29T17:14:47.652Z"
   },
   {
    "duration": 2,
    "start_time": "2024-08-29T17:14:48.100Z"
   },
   {
    "duration": 9,
    "start_time": "2024-08-29T17:14:48.921Z"
   },
   {
    "duration": 4,
    "start_time": "2024-08-29T17:14:49.418Z"
   },
   {
    "duration": 6,
    "start_time": "2024-08-29T17:14:50.385Z"
   },
   {
    "duration": 2,
    "start_time": "2024-08-29T17:14:50.830Z"
   },
   {
    "duration": 447,
    "start_time": "2024-08-29T17:14:52.060Z"
   },
   {
    "duration": 9,
    "start_time": "2024-08-29T17:14:52.545Z"
   },
   {
    "duration": 10,
    "start_time": "2024-08-29T17:14:52.957Z"
   },
   {
    "duration": 5,
    "start_time": "2024-08-29T17:14:53.328Z"
   },
   {
    "duration": 12,
    "start_time": "2024-08-29T17:14:53.682Z"
   },
   {
    "duration": 5,
    "start_time": "2024-08-29T17:14:54.142Z"
   },
   {
    "duration": 241,
    "start_time": "2024-08-29T17:14:54.435Z"
   },
   {
    "duration": 8,
    "start_time": "2024-08-29T17:14:54.799Z"
   },
   {
    "duration": 227,
    "start_time": "2024-08-29T17:14:55.167Z"
   },
   {
    "duration": 9,
    "start_time": "2024-08-29T17:14:55.581Z"
   },
   {
    "duration": 10,
    "start_time": "2024-08-29T17:14:55.952Z"
   },
   {
    "duration": 432,
    "start_time": "2024-08-29T17:14:56.298Z"
   },
   {
    "duration": 3,
    "start_time": "2024-08-29T17:14:57.087Z"
   },
   {
    "duration": 15,
    "start_time": "2024-08-29T17:14:57.502Z"
   },
   {
    "duration": 15,
    "start_time": "2024-08-29T17:14:58.317Z"
   },
   {
    "duration": 15,
    "start_time": "2024-08-29T17:14:58.701Z"
   },
   {
    "duration": 14,
    "start_time": "2024-08-29T17:14:59.141Z"
   },
   {
    "duration": 11,
    "start_time": "2024-08-29T17:15:02.763Z"
   },
   {
    "duration": 9,
    "start_time": "2024-08-29T17:19:47.779Z"
   },
   {
    "duration": 7,
    "start_time": "2024-08-29T17:25:49.771Z"
   },
   {
    "duration": 2579,
    "start_time": "2024-09-25T21:39:35.942Z"
   },
   {
    "duration": 59,
    "start_time": "2024-09-25T21:39:38.523Z"
   },
   {
    "duration": 13,
    "start_time": "2024-09-25T21:39:38.668Z"
   },
   {
    "duration": 3,
    "start_time": "2024-09-25T21:39:39.705Z"
   },
   {
    "duration": 3,
    "start_time": "2024-09-25T21:39:41.098Z"
   },
   {
    "duration": 7,
    "start_time": "2024-09-25T21:39:44.986Z"
   },
   {
    "duration": 15,
    "start_time": "2024-09-25T21:39:47.297Z"
   },
   {
    "duration": 12,
    "start_time": "2024-09-25T21:39:50.937Z"
   },
   {
    "duration": 8,
    "start_time": "2024-09-25T21:41:07.347Z"
   },
   {
    "duration": 2,
    "start_time": "2024-09-25T21:41:13.180Z"
   },
   {
    "duration": 10,
    "start_time": "2024-09-25T21:41:17.192Z"
   },
   {
    "duration": 4,
    "start_time": "2024-09-25T21:41:20.078Z"
   },
   {
    "duration": 5,
    "start_time": "2024-09-25T21:41:22.684Z"
   },
   {
    "duration": 2,
    "start_time": "2024-09-25T21:41:25.239Z"
   },
   {
    "duration": 466,
    "start_time": "2024-09-25T21:41:26.893Z"
   },
   {
    "duration": 9,
    "start_time": "2024-09-25T21:41:30.770Z"
   },
   {
    "duration": 9,
    "start_time": "2024-09-25T21:41:31.838Z"
   },
   {
    "duration": 10,
    "start_time": "2024-09-25T21:41:51.593Z"
   },
   {
    "duration": 4,
    "start_time": "2024-09-25T21:42:00.482Z"
   },
   {
    "duration": 5,
    "start_time": "2024-09-25T21:42:09.087Z"
   },
   {
    "duration": 254,
    "start_time": "2024-09-25T21:42:11.116Z"
   },
   {
    "duration": 8,
    "start_time": "2024-09-25T21:42:14.222Z"
   },
   {
    "duration": 275,
    "start_time": "2024-09-25T21:42:16.141Z"
   },
   {
    "duration": 9,
    "start_time": "2024-09-25T21:42:19.601Z"
   },
   {
    "duration": 8,
    "start_time": "2024-09-25T21:42:21.658Z"
   },
   {
    "duration": 3,
    "start_time": "2024-09-25T21:42:24.878Z"
   },
   {
    "duration": 11,
    "start_time": "2024-09-25T21:42:26.725Z"
   },
   {
    "duration": 13,
    "start_time": "2024-09-25T21:42:29.733Z"
   },
   {
    "duration": 15,
    "start_time": "2024-09-25T21:42:31.969Z"
   },
   {
    "duration": 17,
    "start_time": "2024-09-25T21:42:34.188Z"
   },
   {
    "duration": 270,
    "start_time": "2024-09-25T21:45:15.462Z"
   },
   {
    "duration": 837,
    "start_time": "2024-09-25T21:45:49.640Z"
   },
   {
    "duration": 33,
    "start_time": "2024-09-25T21:45:52.883Z"
   },
   {
    "duration": 12,
    "start_time": "2024-09-25T21:45:55.269Z"
   },
   {
    "duration": 2,
    "start_time": "2024-09-25T21:45:56.163Z"
   },
   {
    "duration": 3,
    "start_time": "2024-09-25T21:45:57.420Z"
   },
   {
    "duration": 7,
    "start_time": "2024-09-25T21:45:58.996Z"
   },
   {
    "duration": 15,
    "start_time": "2024-09-25T21:46:00.249Z"
   },
   {
    "duration": 11,
    "start_time": "2024-09-25T21:46:00.945Z"
   },
   {
    "duration": 8,
    "start_time": "2024-09-25T21:47:24.567Z"
   },
   {
    "duration": 2,
    "start_time": "2024-09-25T21:47:26.711Z"
   },
   {
    "duration": 10,
    "start_time": "2024-09-25T21:47:27.868Z"
   },
   {
    "duration": 4,
    "start_time": "2024-09-25T21:47:28.809Z"
   },
   {
    "duration": 6,
    "start_time": "2024-09-25T21:47:30.303Z"
   },
   {
    "duration": 2,
    "start_time": "2024-09-25T21:47:31.030Z"
   },
   {
    "duration": 496,
    "start_time": "2024-09-25T21:47:32.987Z"
   },
   {
    "duration": 9,
    "start_time": "2024-09-25T21:47:34.211Z"
   },
   {
    "duration": 9,
    "start_time": "2024-09-25T21:47:35.077Z"
   },
   {
    "duration": 4,
    "start_time": "2024-09-25T21:47:38.622Z"
   },
   {
    "duration": 11,
    "start_time": "2024-09-25T21:47:39.544Z"
   },
   {
    "duration": 6,
    "start_time": "2024-09-25T21:47:41.676Z"
   },
   {
    "duration": 252,
    "start_time": "2024-09-25T21:47:43.613Z"
   },
   {
    "duration": 7,
    "start_time": "2024-09-25T21:47:45.150Z"
   },
   {
    "duration": 319,
    "start_time": "2024-09-25T21:47:46.120Z"
   },
   {
    "duration": 8,
    "start_time": "2024-09-25T21:47:46.989Z"
   },
   {
    "duration": 11,
    "start_time": "2024-09-25T21:47:47.938Z"
   },
   {
    "duration": 428,
    "start_time": "2024-09-25T21:47:48.690Z"
   },
   {
    "duration": 4,
    "start_time": "2024-09-25T21:47:53.138Z"
   },
   {
    "duration": 10,
    "start_time": "2024-09-25T21:47:53.990Z"
   },
   {
    "duration": 14,
    "start_time": "2024-09-25T21:47:55.513Z"
   },
   {
    "duration": 14,
    "start_time": "2024-09-25T21:47:56.265Z"
   },
   {
    "duration": 13,
    "start_time": "2024-09-25T21:47:57.082Z"
   },
   {
    "duration": 9,
    "start_time": "2024-09-25T21:49:09.846Z"
   },
   {
    "duration": 8,
    "start_time": "2024-09-25T21:50:08.848Z"
   },
   {
    "duration": 156,
    "start_time": "2024-10-10T20:31:55.905Z"
   }
  ],
  "kernelspec": {
   "display_name": "Python 3 (ipykernel)",
   "language": "python",
   "name": "python3"
  },
  "language_info": {
   "codemirror_mode": {
    "name": "ipython",
    "version": 3
   },
   "file_extension": ".py",
   "mimetype": "text/x-python",
   "name": "python",
   "nbconvert_exporter": "python",
   "pygments_lexer": "ipython3",
   "version": "3.9.19"
  },
  "toc": {
   "base_numbering": 1,
   "nav_menu": {},
   "number_sections": true,
   "sideBar": true,
   "skip_h1_title": true,
   "title_cell": "Table of Contents",
   "title_sidebar": "Contents",
   "toc_cell": false,
   "toc_position": {},
   "toc_section_display": true,
   "toc_window_display": false
  }
 },
 "nbformat": 4,
 "nbformat_minor": 2
}
